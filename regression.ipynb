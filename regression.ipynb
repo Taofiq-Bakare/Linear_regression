{
 "metadata": {
  "language_info": {
   "codemirror_mode": {
    "name": "ipython",
    "version": 3
   },
   "file_extension": ".py",
   "mimetype": "text/x-python",
   "name": "python",
   "nbconvert_exporter": "python",
   "pygments_lexer": "ipython3",
   "version": "3.8.5-final"
  },
  "orig_nbformat": 2,
  "kernelspec": {
   "name": "python3",
   "display_name": "Python 3.8.5 64-bit ('venv')",
   "metadata": {
    "interpreter": {
     "hash": "1afc3bb765c7bbe3976157aef3edfa65ae29174e3d22079bb17c48ed3c01c994"
    }
   }
  }
 },
 "nbformat": 4,
 "nbformat_minor": 2,
 "cells": [
  {
   "source": [
    "Title: [Practical machine learning (Regression)](https://www.youtube.com/watch?v=lN5jesocJjk&list=PLQVvvaa0QuDfKTOs3Keq_kaG2P55YRn5v&index=3)"
   ],
   "cell_type": "markdown",
   "metadata": {}
  },
  {
   "source": [
    "## Import libraries and data \n"
   ],
   "cell_type": "markdown",
   "metadata": {}
  },
  {
   "cell_type": "code",
   "execution_count": 1,
   "metadata": {},
   "outputs": [],
   "source": [
    "import pandas as pd \n",
    "import quandl\n",
    "import math\n",
    "import numpy as np \n",
    "from sklearn import preprocessing, svm\n",
    "from sklearn.model_selection import train_test_split\n",
    "from sklearn.model_selection import cross_validate\n",
    "from sklearn.linear_model import LinearRegression"
   ]
  },
  {
   "source": [
    "## Create dataframe and features"
   ],
   "cell_type": "markdown",
   "metadata": {}
  },
  {
   "cell_type": "code",
   "execution_count": 2,
   "metadata": {},
   "outputs": [
    {
     "output_type": "execute_result",
     "data": {
      "text/plain": [
       "              Open    High     Low    Close      Volume  Ex-Dividend  \\\n",
       "Date                                                                   \n",
       "2004-08-19  100.01  104.06   95.96  100.335  44659000.0          0.0   \n",
       "2004-08-20  101.01  109.08  100.50  108.310  22834300.0          0.0   \n",
       "2004-08-23  110.76  113.48  109.05  109.400  18256100.0          0.0   \n",
       "2004-08-24  111.24  111.60  103.57  104.870  15247300.0          0.0   \n",
       "2004-08-25  104.76  108.00  103.88  106.000   9188600.0          0.0   \n",
       "\n",
       "            Split Ratio  Adj. Open  Adj. High   Adj. Low  Adj. Close  \\\n",
       "Date                                                                   \n",
       "2004-08-19          1.0  50.159839  52.191109  48.128568   50.322842   \n",
       "2004-08-20          1.0  50.661387  54.708881  50.405597   54.322689   \n",
       "2004-08-23          1.0  55.551482  56.915693  54.693835   54.869377   \n",
       "2004-08-24          1.0  55.792225  55.972783  51.945350   52.597363   \n",
       "2004-08-25          1.0  52.542193  54.167209  52.100830   53.164113   \n",
       "\n",
       "            Adj. Volume  \n",
       "Date                     \n",
       "2004-08-19   44659000.0  \n",
       "2004-08-20   22834300.0  \n",
       "2004-08-23   18256100.0  \n",
       "2004-08-24   15247300.0  \n",
       "2004-08-25    9188600.0  "
      ],
      "text/html": "<div>\n<style scoped>\n    .dataframe tbody tr th:only-of-type {\n        vertical-align: middle;\n    }\n\n    .dataframe tbody tr th {\n        vertical-align: top;\n    }\n\n    .dataframe thead th {\n        text-align: right;\n    }\n</style>\n<table border=\"1\" class=\"dataframe\">\n  <thead>\n    <tr style=\"text-align: right;\">\n      <th></th>\n      <th>Open</th>\n      <th>High</th>\n      <th>Low</th>\n      <th>Close</th>\n      <th>Volume</th>\n      <th>Ex-Dividend</th>\n      <th>Split Ratio</th>\n      <th>Adj. Open</th>\n      <th>Adj. High</th>\n      <th>Adj. Low</th>\n      <th>Adj. Close</th>\n      <th>Adj. Volume</th>\n    </tr>\n    <tr>\n      <th>Date</th>\n      <th></th>\n      <th></th>\n      <th></th>\n      <th></th>\n      <th></th>\n      <th></th>\n      <th></th>\n      <th></th>\n      <th></th>\n      <th></th>\n      <th></th>\n      <th></th>\n    </tr>\n  </thead>\n  <tbody>\n    <tr>\n      <th>2004-08-19</th>\n      <td>100.01</td>\n      <td>104.06</td>\n      <td>95.96</td>\n      <td>100.335</td>\n      <td>44659000.0</td>\n      <td>0.0</td>\n      <td>1.0</td>\n      <td>50.159839</td>\n      <td>52.191109</td>\n      <td>48.128568</td>\n      <td>50.322842</td>\n      <td>44659000.0</td>\n    </tr>\n    <tr>\n      <th>2004-08-20</th>\n      <td>101.01</td>\n      <td>109.08</td>\n      <td>100.50</td>\n      <td>108.310</td>\n      <td>22834300.0</td>\n      <td>0.0</td>\n      <td>1.0</td>\n      <td>50.661387</td>\n      <td>54.708881</td>\n      <td>50.405597</td>\n      <td>54.322689</td>\n      <td>22834300.0</td>\n    </tr>\n    <tr>\n      <th>2004-08-23</th>\n      <td>110.76</td>\n      <td>113.48</td>\n      <td>109.05</td>\n      <td>109.400</td>\n      <td>18256100.0</td>\n      <td>0.0</td>\n      <td>1.0</td>\n      <td>55.551482</td>\n      <td>56.915693</td>\n      <td>54.693835</td>\n      <td>54.869377</td>\n      <td>18256100.0</td>\n    </tr>\n    <tr>\n      <th>2004-08-24</th>\n      <td>111.24</td>\n      <td>111.60</td>\n      <td>103.57</td>\n      <td>104.870</td>\n      <td>15247300.0</td>\n      <td>0.0</td>\n      <td>1.0</td>\n      <td>55.792225</td>\n      <td>55.972783</td>\n      <td>51.945350</td>\n      <td>52.597363</td>\n      <td>15247300.0</td>\n    </tr>\n    <tr>\n      <th>2004-08-25</th>\n      <td>104.76</td>\n      <td>108.00</td>\n      <td>103.88</td>\n      <td>106.000</td>\n      <td>9188600.0</td>\n      <td>0.0</td>\n      <td>1.0</td>\n      <td>52.542193</td>\n      <td>54.167209</td>\n      <td>52.100830</td>\n      <td>53.164113</td>\n      <td>9188600.0</td>\n    </tr>\n  </tbody>\n</table>\n</div>"
     },
     "metadata": {},
     "execution_count": 2
    }
   ],
   "source": [
    "data = quandl.get('WIKI/GOOGL')\n",
    "data.head()"
   ]
  },
  {
   "cell_type": "code",
   "execution_count": 3,
   "metadata": {},
   "outputs": [
    {
     "output_type": "execute_result",
     "data": {
      "text/plain": [
       "            Adj. Open  Adj. High   Adj. Low  Adj. Close  Adj. Volume\n",
       "Date                                                                \n",
       "2004-08-19  50.159839  52.191109  48.128568   50.322842   44659000.0\n",
       "2004-08-20  50.661387  54.708881  50.405597   54.322689   22834300.0\n",
       "2004-08-23  55.551482  56.915693  54.693835   54.869377   18256100.0\n",
       "2004-08-24  55.792225  55.972783  51.945350   52.597363   15247300.0\n",
       "2004-08-25  52.542193  54.167209  52.100830   53.164113    9188600.0"
      ],
      "text/html": "<div>\n<style scoped>\n    .dataframe tbody tr th:only-of-type {\n        vertical-align: middle;\n    }\n\n    .dataframe tbody tr th {\n        vertical-align: top;\n    }\n\n    .dataframe thead th {\n        text-align: right;\n    }\n</style>\n<table border=\"1\" class=\"dataframe\">\n  <thead>\n    <tr style=\"text-align: right;\">\n      <th></th>\n      <th>Adj. Open</th>\n      <th>Adj. High</th>\n      <th>Adj. Low</th>\n      <th>Adj. Close</th>\n      <th>Adj. Volume</th>\n    </tr>\n    <tr>\n      <th>Date</th>\n      <th></th>\n      <th></th>\n      <th></th>\n      <th></th>\n      <th></th>\n    </tr>\n  </thead>\n  <tbody>\n    <tr>\n      <th>2004-08-19</th>\n      <td>50.159839</td>\n      <td>52.191109</td>\n      <td>48.128568</td>\n      <td>50.322842</td>\n      <td>44659000.0</td>\n    </tr>\n    <tr>\n      <th>2004-08-20</th>\n      <td>50.661387</td>\n      <td>54.708881</td>\n      <td>50.405597</td>\n      <td>54.322689</td>\n      <td>22834300.0</td>\n    </tr>\n    <tr>\n      <th>2004-08-23</th>\n      <td>55.551482</td>\n      <td>56.915693</td>\n      <td>54.693835</td>\n      <td>54.869377</td>\n      <td>18256100.0</td>\n    </tr>\n    <tr>\n      <th>2004-08-24</th>\n      <td>55.792225</td>\n      <td>55.972783</td>\n      <td>51.945350</td>\n      <td>52.597363</td>\n      <td>15247300.0</td>\n    </tr>\n    <tr>\n      <th>2004-08-25</th>\n      <td>52.542193</td>\n      <td>54.167209</td>\n      <td>52.100830</td>\n      <td>53.164113</td>\n      <td>9188600.0</td>\n    </tr>\n  </tbody>\n</table>\n</div>"
     },
     "metadata": {},
     "execution_count": 3
    }
   ],
   "source": [
    "data = data[['Adj. Open', 'Adj. High' , 'Adj. Low', 'Adj. Close', 'Adj. Volume',]]\n",
    "data.head()"
   ]
  },
  {
   "source": [
    "## Create more features to work with\n"
   ],
   "cell_type": "markdown",
   "metadata": {}
  },
  {
   "cell_type": "code",
   "execution_count": 4,
   "metadata": {},
   "outputs": [
    {
     "output_type": "execute_result",
     "data": {
      "text/plain": [
       "            Adj. Open  Adj. High   Adj. Low  Adj. Close  Adj. Volume  \\\n",
       "Date                                                                   \n",
       "2004-08-19  50.159839  52.191109  48.128568   50.322842   44659000.0   \n",
       "2004-08-20  50.661387  54.708881  50.405597   54.322689   22834300.0   \n",
       "2004-08-23  55.551482  56.915693  54.693835   54.869377   18256100.0   \n",
       "2004-08-24  55.792225  55.972783  51.945350   52.597363   15247300.0   \n",
       "2004-08-25  52.542193  54.167209  52.100830   53.164113    9188600.0   \n",
       "\n",
       "              HL_PCT  PCT_change  \n",
       "Date                              \n",
       "2004-08-19  3.712563    0.324968  \n",
       "2004-08-20  0.710922    7.227007  \n",
       "2004-08-23  3.729433   -1.227880  \n",
       "2004-08-24  6.417469   -5.726357  \n",
       "2004-08-25  1.886792    1.183658  "
      ],
      "text/html": "<div>\n<style scoped>\n    .dataframe tbody tr th:only-of-type {\n        vertical-align: middle;\n    }\n\n    .dataframe tbody tr th {\n        vertical-align: top;\n    }\n\n    .dataframe thead th {\n        text-align: right;\n    }\n</style>\n<table border=\"1\" class=\"dataframe\">\n  <thead>\n    <tr style=\"text-align: right;\">\n      <th></th>\n      <th>Adj. Open</th>\n      <th>Adj. High</th>\n      <th>Adj. Low</th>\n      <th>Adj. Close</th>\n      <th>Adj. Volume</th>\n      <th>HL_PCT</th>\n      <th>PCT_change</th>\n    </tr>\n    <tr>\n      <th>Date</th>\n      <th></th>\n      <th></th>\n      <th></th>\n      <th></th>\n      <th></th>\n      <th></th>\n      <th></th>\n    </tr>\n  </thead>\n  <tbody>\n    <tr>\n      <th>2004-08-19</th>\n      <td>50.159839</td>\n      <td>52.191109</td>\n      <td>48.128568</td>\n      <td>50.322842</td>\n      <td>44659000.0</td>\n      <td>3.712563</td>\n      <td>0.324968</td>\n    </tr>\n    <tr>\n      <th>2004-08-20</th>\n      <td>50.661387</td>\n      <td>54.708881</td>\n      <td>50.405597</td>\n      <td>54.322689</td>\n      <td>22834300.0</td>\n      <td>0.710922</td>\n      <td>7.227007</td>\n    </tr>\n    <tr>\n      <th>2004-08-23</th>\n      <td>55.551482</td>\n      <td>56.915693</td>\n      <td>54.693835</td>\n      <td>54.869377</td>\n      <td>18256100.0</td>\n      <td>3.729433</td>\n      <td>-1.227880</td>\n    </tr>\n    <tr>\n      <th>2004-08-24</th>\n      <td>55.792225</td>\n      <td>55.972783</td>\n      <td>51.945350</td>\n      <td>52.597363</td>\n      <td>15247300.0</td>\n      <td>6.417469</td>\n      <td>-5.726357</td>\n    </tr>\n    <tr>\n      <th>2004-08-25</th>\n      <td>52.542193</td>\n      <td>54.167209</td>\n      <td>52.100830</td>\n      <td>53.164113</td>\n      <td>9188600.0</td>\n      <td>1.886792</td>\n      <td>1.183658</td>\n    </tr>\n  </tbody>\n</table>\n</div>"
     },
     "metadata": {},
     "execution_count": 4
    }
   ],
   "source": [
    "# precent volatility\n",
    "data['HL_PCT'] = (data['Adj. High'] - data['Adj. Close']) / data['Adj. Close'] * 100.0\n",
    "\n",
    "# daily percent change\n",
    "data['PCT_change'] = (data['Adj. Close'] - data['Adj. Open']) / data['Adj. Open'] * 100.0\n",
    "\n",
    "data.head()\n"
   ]
  },
  {
   "cell_type": "code",
   "execution_count": 5,
   "metadata": {},
   "outputs": [
    {
     "output_type": "execute_result",
     "data": {
      "text/plain": [
       "            Adj. Close  Adj. Volume    HL_PCT  PCT_change\n",
       "Date                                                     \n",
       "2004-08-19   50.322842   44659000.0  3.712563    0.324968\n",
       "2004-08-20   54.322689   22834300.0  0.710922    7.227007\n",
       "2004-08-23   54.869377   18256100.0  3.729433   -1.227880\n",
       "2004-08-24   52.597363   15247300.0  6.417469   -5.726357\n",
       "2004-08-25   53.164113    9188600.0  1.886792    1.183658"
      ],
      "text/html": "<div>\n<style scoped>\n    .dataframe tbody tr th:only-of-type {\n        vertical-align: middle;\n    }\n\n    .dataframe tbody tr th {\n        vertical-align: top;\n    }\n\n    .dataframe thead th {\n        text-align: right;\n    }\n</style>\n<table border=\"1\" class=\"dataframe\">\n  <thead>\n    <tr style=\"text-align: right;\">\n      <th></th>\n      <th>Adj. Close</th>\n      <th>Adj. Volume</th>\n      <th>HL_PCT</th>\n      <th>PCT_change</th>\n    </tr>\n    <tr>\n      <th>Date</th>\n      <th></th>\n      <th></th>\n      <th></th>\n      <th></th>\n    </tr>\n  </thead>\n  <tbody>\n    <tr>\n      <th>2004-08-19</th>\n      <td>50.322842</td>\n      <td>44659000.0</td>\n      <td>3.712563</td>\n      <td>0.324968</td>\n    </tr>\n    <tr>\n      <th>2004-08-20</th>\n      <td>54.322689</td>\n      <td>22834300.0</td>\n      <td>0.710922</td>\n      <td>7.227007</td>\n    </tr>\n    <tr>\n      <th>2004-08-23</th>\n      <td>54.869377</td>\n      <td>18256100.0</td>\n      <td>3.729433</td>\n      <td>-1.227880</td>\n    </tr>\n    <tr>\n      <th>2004-08-24</th>\n      <td>52.597363</td>\n      <td>15247300.0</td>\n      <td>6.417469</td>\n      <td>-5.726357</td>\n    </tr>\n    <tr>\n      <th>2004-08-25</th>\n      <td>53.164113</td>\n      <td>9188600.0</td>\n      <td>1.886792</td>\n      <td>1.183658</td>\n    </tr>\n  </tbody>\n</table>\n</div>"
     },
     "metadata": {},
     "execution_count": 5
    }
   ],
   "source": [
    "## drop superfluous features\n",
    "\n",
    "data1 = data.drop(data.iloc[:, 0:3], axis=1)\n",
    "data1.head()"
   ]
  },
  {
   "source": [
    "## Problem formulation\n",
    "The speaker aims to use the previous data points\n",
    "of adjusted close price to make step ahead prediciton."
   ],
   "cell_type": "markdown",
   "metadata": {}
  },
  {
   "cell_type": "code",
   "execution_count": 6,
   "metadata": {},
   "outputs": [],
   "source": [
    "forecast_col = 'Adj. Close'\n",
    "\n",
    "## fill nana with outliers\n",
    "data1.fillna(-99999, inplace=True)"
   ]
  },
  {
   "cell_type": "code",
   "execution_count": 14,
   "metadata": {},
   "outputs": [
    {
     "output_type": "execute_result",
     "data": {
      "text/plain": [
       "            Adj. Close  Adj. Volume    HL_PCT  PCT_change      label\n",
       "Date                                                                \n",
       "2004-08-19   50.322842   44659000.0  3.712563    0.324968  69.078238\n",
       "2004-08-20   54.322689   22834300.0  0.710922    7.227007  67.839414\n",
       "2004-08-23   54.869377   18256100.0  3.729433   -1.227880  68.912727\n",
       "2004-08-24   52.597363   15247300.0  6.417469   -5.726357  70.668146\n",
       "2004-08-25   53.164113    9188600.0  1.886792    1.183658  71.219849"
      ],
      "text/html": "<div>\n<style scoped>\n    .dataframe tbody tr th:only-of-type {\n        vertical-align: middle;\n    }\n\n    .dataframe tbody tr th {\n        vertical-align: top;\n    }\n\n    .dataframe thead th {\n        text-align: right;\n    }\n</style>\n<table border=\"1\" class=\"dataframe\">\n  <thead>\n    <tr style=\"text-align: right;\">\n      <th></th>\n      <th>Adj. Close</th>\n      <th>Adj. Volume</th>\n      <th>HL_PCT</th>\n      <th>PCT_change</th>\n      <th>label</th>\n    </tr>\n    <tr>\n      <th>Date</th>\n      <th></th>\n      <th></th>\n      <th></th>\n      <th></th>\n      <th></th>\n    </tr>\n  </thead>\n  <tbody>\n    <tr>\n      <th>2004-08-19</th>\n      <td>50.322842</td>\n      <td>44659000.0</td>\n      <td>3.712563</td>\n      <td>0.324968</td>\n      <td>69.078238</td>\n    </tr>\n    <tr>\n      <th>2004-08-20</th>\n      <td>54.322689</td>\n      <td>22834300.0</td>\n      <td>0.710922</td>\n      <td>7.227007</td>\n      <td>67.839414</td>\n    </tr>\n    <tr>\n      <th>2004-08-23</th>\n      <td>54.869377</td>\n      <td>18256100.0</td>\n      <td>3.729433</td>\n      <td>-1.227880</td>\n      <td>68.912727</td>\n    </tr>\n    <tr>\n      <th>2004-08-24</th>\n      <td>52.597363</td>\n      <td>15247300.0</td>\n      <td>6.417469</td>\n      <td>-5.726357</td>\n      <td>70.668146</td>\n    </tr>\n    <tr>\n      <th>2004-08-25</th>\n      <td>53.164113</td>\n      <td>9188600.0</td>\n      <td>1.886792</td>\n      <td>1.183658</td>\n      <td>71.219849</td>\n    </tr>\n  </tbody>\n</table>\n</div>"
     },
     "metadata": {},
     "execution_count": 14
    }
   ],
   "source": [
    "## make steps ahead forecast with the previous datapoints\n",
    "\n",
    "forecast_out = int(math.ceil(0.01 * len(data)))\n",
    "\n",
    "# data1['label'] = data1[forecast_col]\n",
    "\n",
    "## the data has been shifted up by forecast_out \n",
    "data1['label'] = data1[forecast_col].shift(-forecast_out)\n",
    "\n",
    "## dropping the nans deletes that last(forecast_out) rows\n",
    "data1.dropna(inplace=True)\n",
    "data1.head()"
   ]
  },
  {
   "source": [
    "## Create input and output"
   ],
   "cell_type": "markdown",
   "metadata": {}
  },
  {
   "cell_type": "code",
   "execution_count": 15,
   "metadata": {},
   "outputs": [],
   "source": [
    "X = np.array(data1.drop(['label'], 1))\n",
    "X = X[:-forecast_out]\n",
    "X_lately = X[-forecast_out:]\n",
    "X = preprocessing.scale(X)\n",
    "\n",
    "data1.dropna(inplace=True)\n",
    "y = np.array(data1['label'])\n",
    "y = np.array(data1['label'])"
   ]
  },
  {
   "source": [
    "## Test/Train"
   ],
   "cell_type": "markdown",
   "metadata": {}
  },
  {
   "cell_type": "code",
   "execution_count": 13,
   "metadata": {},
   "outputs": [
    {
     "output_type": "error",
     "ename": "ValueError",
     "evalue": "Found input variables with inconsistent numbers of samples: [3354, 3389]",
     "traceback": [
      "\u001b[1;31m---------------------------------------------------------------------------\u001b[0m",
      "\u001b[1;31mValueError\u001b[0m                                Traceback (most recent call last)",
      "\u001b[1;32m<ipython-input-13-19ff03ae32ee>\u001b[0m in \u001b[0;36m<module>\u001b[1;34m\u001b[0m\n\u001b[1;32m----> 1\u001b[1;33m \u001b[0mX_train\u001b[0m\u001b[1;33m,\u001b[0m \u001b[0mX_test\u001b[0m\u001b[1;33m,\u001b[0m \u001b[0my_train\u001b[0m\u001b[1;33m,\u001b[0m \u001b[0my_test\u001b[0m \u001b[1;33m=\u001b[0m \u001b[0mtrain_test_split\u001b[0m\u001b[1;33m(\u001b[0m\u001b[0mX\u001b[0m\u001b[1;33m,\u001b[0m \u001b[0my\u001b[0m\u001b[1;33m,\u001b[0m \u001b[0mtest_size\u001b[0m\u001b[1;33m=\u001b[0m\u001b[1;36m0.2\u001b[0m\u001b[1;33m)\u001b[0m\u001b[1;33m\u001b[0m\u001b[1;33m\u001b[0m\u001b[0m\n\u001b[0m",
      "\u001b[1;32me:\\Document\\Codes\\Python\\regression\\venv\\lib\\site-packages\\sklearn\\model_selection\\_split.py\u001b[0m in \u001b[0;36mtrain_test_split\u001b[1;34m(test_size, train_size, random_state, shuffle, stratify, *arrays)\u001b[0m\n\u001b[0;32m   2170\u001b[0m         \u001b[1;32mraise\u001b[0m \u001b[0mValueError\u001b[0m\u001b[1;33m(\u001b[0m\u001b[1;34m\"At least one array required as input\"\u001b[0m\u001b[1;33m)\u001b[0m\u001b[1;33m\u001b[0m\u001b[1;33m\u001b[0m\u001b[0m\n\u001b[0;32m   2171\u001b[0m \u001b[1;33m\u001b[0m\u001b[0m\n\u001b[1;32m-> 2172\u001b[1;33m     \u001b[0marrays\u001b[0m \u001b[1;33m=\u001b[0m \u001b[0mindexable\u001b[0m\u001b[1;33m(\u001b[0m\u001b[1;33m*\u001b[0m\u001b[0marrays\u001b[0m\u001b[1;33m)\u001b[0m\u001b[1;33m\u001b[0m\u001b[1;33m\u001b[0m\u001b[0m\n\u001b[0m\u001b[0;32m   2173\u001b[0m \u001b[1;33m\u001b[0m\u001b[0m\n\u001b[0;32m   2174\u001b[0m     \u001b[0mn_samples\u001b[0m \u001b[1;33m=\u001b[0m \u001b[0m_num_samples\u001b[0m\u001b[1;33m(\u001b[0m\u001b[0marrays\u001b[0m\u001b[1;33m[\u001b[0m\u001b[1;36m0\u001b[0m\u001b[1;33m]\u001b[0m\u001b[1;33m)\u001b[0m\u001b[1;33m\u001b[0m\u001b[1;33m\u001b[0m\u001b[0m\n",
      "\u001b[1;32me:\\Document\\Codes\\Python\\regression\\venv\\lib\\site-packages\\sklearn\\utils\\validation.py\u001b[0m in \u001b[0;36mindexable\u001b[1;34m(*iterables)\u001b[0m\n\u001b[0;32m    297\u001b[0m     \"\"\"\n\u001b[0;32m    298\u001b[0m     \u001b[0mresult\u001b[0m \u001b[1;33m=\u001b[0m \u001b[1;33m[\u001b[0m\u001b[0m_make_indexable\u001b[0m\u001b[1;33m(\u001b[0m\u001b[0mX\u001b[0m\u001b[1;33m)\u001b[0m \u001b[1;32mfor\u001b[0m \u001b[0mX\u001b[0m \u001b[1;32min\u001b[0m \u001b[0miterables\u001b[0m\u001b[1;33m]\u001b[0m\u001b[1;33m\u001b[0m\u001b[1;33m\u001b[0m\u001b[0m\n\u001b[1;32m--> 299\u001b[1;33m     \u001b[0mcheck_consistent_length\u001b[0m\u001b[1;33m(\u001b[0m\u001b[1;33m*\u001b[0m\u001b[0mresult\u001b[0m\u001b[1;33m)\u001b[0m\u001b[1;33m\u001b[0m\u001b[1;33m\u001b[0m\u001b[0m\n\u001b[0m\u001b[0;32m    300\u001b[0m     \u001b[1;32mreturn\u001b[0m \u001b[0mresult\u001b[0m\u001b[1;33m\u001b[0m\u001b[1;33m\u001b[0m\u001b[0m\n\u001b[0;32m    301\u001b[0m \u001b[1;33m\u001b[0m\u001b[0m\n",
      "\u001b[1;32me:\\Document\\Codes\\Python\\regression\\venv\\lib\\site-packages\\sklearn\\utils\\validation.py\u001b[0m in \u001b[0;36mcheck_consistent_length\u001b[1;34m(*arrays)\u001b[0m\n\u001b[0;32m    260\u001b[0m     \u001b[0muniques\u001b[0m \u001b[1;33m=\u001b[0m \u001b[0mnp\u001b[0m\u001b[1;33m.\u001b[0m\u001b[0munique\u001b[0m\u001b[1;33m(\u001b[0m\u001b[0mlengths\u001b[0m\u001b[1;33m)\u001b[0m\u001b[1;33m\u001b[0m\u001b[1;33m\u001b[0m\u001b[0m\n\u001b[0;32m    261\u001b[0m     \u001b[1;32mif\u001b[0m \u001b[0mlen\u001b[0m\u001b[1;33m(\u001b[0m\u001b[0muniques\u001b[0m\u001b[1;33m)\u001b[0m \u001b[1;33m>\u001b[0m \u001b[1;36m1\u001b[0m\u001b[1;33m:\u001b[0m\u001b[1;33m\u001b[0m\u001b[1;33m\u001b[0m\u001b[0m\n\u001b[1;32m--> 262\u001b[1;33m         raise ValueError(\"Found input variables with inconsistent numbers of\"\n\u001b[0m\u001b[0;32m    263\u001b[0m                          \" samples: %r\" % [int(l) for l in lengths])\n\u001b[0;32m    264\u001b[0m \u001b[1;33m\u001b[0m\u001b[0m\n",
      "\u001b[1;31mValueError\u001b[0m: Found input variables with inconsistent numbers of samples: [3354, 3389]"
     ]
    }
   ],
   "source": [
    "X_train, X_test, y_train, y_test = train_test_split(X, y, test_size=0.2)"
   ]
  },
  {
   "source": [
    "## Create classifier"
   ],
   "cell_type": "markdown",
   "metadata": {}
  },
  {
   "cell_type": "code",
   "execution_count": 10,
   "metadata": {},
   "outputs": [],
   "source": [
    "lin_clf = LinearRegression()\n",
    "svm_clf = svm.SVR(kernel='poly')\n",
    "\n",
    "clf = lin_clf\n",
    "clf.fit(X_train, y_train)\n",
    "accuracy = clf.score(X_test, y_test)"
   ]
  },
  {
   "cell_type": "code",
   "execution_count": 11,
   "metadata": {},
   "outputs": [
    {
     "output_type": "stream",
     "name": "stdout",
     "text": [
      "0.9786256048019195\n"
     ]
    }
   ],
   "source": [
    "print(accuracy)"
   ]
  },
  {
   "cell_type": "code",
   "execution_count": null,
   "metadata": {},
   "outputs": [],
   "source": []
  }
 ]
}